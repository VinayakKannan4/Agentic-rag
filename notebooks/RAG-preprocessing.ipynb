{
 "cells": [
  {
   "cell_type": "markdown",
   "metadata": {},
   "source": [
    "### Setting up qdrant :\n",
    "\n",
    "1. Run from terminal : docker pull qdrant/qdrant\n",
    "2. Run from terminal:\n",
    "\n",
    "> docker run -p 6333:6333 -p 6334:6334 \\\n",
    "> -v \"$(pwd)/qdrant_storage:/qdrant/storage:z\" \\\n",
    "> qdrant/qdrant\n",
    "\n",
    "In the above command:\n",
    "The first line binds REST API port and GRPC port to our local network \\\n",
    "-p 6333:6333  => refers to the RestAPI port \\\n",
    "-p 6334:6334  => refers to GRPC port\n",
    "\n",
    "The second line mounts local storage called qdrant_storage to the docker image\n",
    "\n",
    "Once this command is run, open your browser and open the following link to see your qdrant database UI:\n",
    "> http://localhost:6333/dashboard#/welcome\n"
   ]
  },
  {
   "cell_type": "code",
   "execution_count": 13,
   "metadata": {},
   "outputs": [],
   "source": [
    "from qdrant_client import QdrantClient\n",
    "from qdrant_client.models import Distance, VectorParams, CollectionParams, PointStruct\n",
    "\n",
    "import openai\n",
    "import pandas as pd"
   ]
  },
  {
   "cell_type": "code",
   "execution_count": 4,
   "metadata": {},
   "outputs": [
    {
     "data": {
      "text/plain": [
       "True"
      ]
     },
     "execution_count": 4,
     "metadata": {},
     "output_type": "execute_result"
    }
   ],
   "source": [
    "qdrant_client = QdrantClient(url=\"http://localhost:6333\")\n",
    "\n",
    "qdrant_client.create_collection(\n",
    "    collection_name=\"Amazon-items-collection-00\",\n",
    "    vectors_config=VectorParams(size=1536, distance=Distance.COSINE), \n",
    ")\n",
    "# setiing vector size = 1536 , which is same as the embedding size of the OpenAI embedding model\n",
    "# setting distance metric to COSINE, which is commonly used for text embeddings, shows the similarity between vectors based on the cosine of the angle between them.\n",
    "# Once these parameters are set, they can not be changed later, so it is important to choose them carefully based on the use case and the type of data being stored in the collection."
   ]
  },
  {
   "cell_type": "markdown",
   "metadata": {},
   "source": [
    "> After running the above, go back to the qdrant UI in your browser and go to collections - you should see the above collection that was created.\n",
    "\n",
    "> Lets now get and store some data in this collection"
   ]
  },
  {
   "cell_type": "code",
   "execution_count": 6,
   "metadata": {},
   "outputs": [],
   "source": [
    "# Read the sampled dataset with Amazon inventory metadata\n",
    "\n",
    "df_items = pd.read_json(\"../data/meta_Electronics_2022_2023_with_category_ratings_100_sample_1000.jsonl\", lines=True)"
   ]
  },
  {
   "cell_type": "code",
   "execution_count": 7,
   "metadata": {},
   "outputs": [],
   "source": [
    "# Concatenate title and features\n",
    "\n",
    "def preprocess_data(row):\n",
    "    return f\"{row['title']} {' '.join(row['features'])}\"\n",
    "\n",
    "df_items[\"preprocessed_data\"] = df_items.apply(preprocess_data, axis=1)"
   ]
  },
  {
   "cell_type": "code",
   "execution_count": 12,
   "metadata": {},
   "outputs": [
    {
     "data": {
      "text/html": [
       "<div>\n",
       "<style scoped>\n",
       "    .dataframe tbody tr th:only-of-type {\n",
       "        vertical-align: middle;\n",
       "    }\n",
       "\n",
       "    .dataframe tbody tr th {\n",
       "        vertical-align: top;\n",
       "    }\n",
       "\n",
       "    .dataframe thead th {\n",
       "        text-align: right;\n",
       "    }\n",
       "</style>\n",
       "<table border=\"1\" class=\"dataframe\">\n",
       "  <thead>\n",
       "    <tr style=\"text-align: right;\">\n",
       "      <th></th>\n",
       "      <th>main_category</th>\n",
       "      <th>title</th>\n",
       "      <th>average_rating</th>\n",
       "      <th>rating_number</th>\n",
       "      <th>features</th>\n",
       "      <th>description</th>\n",
       "      <th>price</th>\n",
       "      <th>images</th>\n",
       "      <th>videos</th>\n",
       "      <th>store</th>\n",
       "      <th>categories</th>\n",
       "      <th>details</th>\n",
       "      <th>parent_asin</th>\n",
       "      <th>bought_together</th>\n",
       "      <th>subtitle</th>\n",
       "      <th>author</th>\n",
       "      <th>preprocessed_data</th>\n",
       "    </tr>\n",
       "  </thead>\n",
       "  <tbody>\n",
       "    <tr>\n",
       "      <th>0</th>\n",
       "      <td>Industrial &amp; Scientific</td>\n",
       "      <td>RAVODOI USB C Cable, [2Pack/3.3ft+6.6ft] USB T...</td>\n",
       "      <td>4.4</td>\n",
       "      <td>119</td>\n",
       "      <td>[【Fast Charging Cord】These USB C cables provid...</td>\n",
       "      <td>[]</td>\n",
       "      <td>NaN</td>\n",
       "      <td>[{'thumb': 'https://m.media-amazon.com/images/...</td>\n",
       "      <td>[{'title': 'Type-C Charger Cable ', 'url': 'ht...</td>\n",
       "      <td>RAVODOI</td>\n",
       "      <td>[Electronics, Computers &amp; Accessories, Compute...</td>\n",
       "      <td>{'Brand': 'RAVODOI', 'Connector Type': 'USB Ty...</td>\n",
       "      <td>B09R4Y2HKY</td>\n",
       "      <td>NaN</td>\n",
       "      <td>NaN</td>\n",
       "      <td>NaN</td>\n",
       "      <td>RAVODOI USB C Cable, [2Pack/3.3ft+6.6ft] USB T...</td>\n",
       "    </tr>\n",
       "    <tr>\n",
       "      <th>1</th>\n",
       "      <td>All Electronics</td>\n",
       "      <td>SNESH-2 Pack USB-C Female to USB Male Adapter,...</td>\n",
       "      <td>4.5</td>\n",
       "      <td>352</td>\n",
       "      <td>[🔹(Light &amp; compact) Easy to carry and light we...</td>\n",
       "      <td>[]</td>\n",
       "      <td>4.99</td>\n",
       "      <td>[{'thumb': 'https://m.media-amazon.com/images/...</td>\n",
       "      <td>[{'title': 'USB Male &amp; Female Adapter', 'url':...</td>\n",
       "      <td>SNESH</td>\n",
       "      <td>[Electronics, Computers &amp; Accessories, Compute...</td>\n",
       "      <td>{'Package Dimensions': '3.54 x 2.4 x 0.35 inch...</td>\n",
       "      <td>B09JV5FM2S</td>\n",
       "      <td>NaN</td>\n",
       "      <td>NaN</td>\n",
       "      <td>NaN</td>\n",
       "      <td>SNESH-2 Pack USB-C Female to USB Male Adapter,...</td>\n",
       "    </tr>\n",
       "    <tr>\n",
       "      <th>2</th>\n",
       "      <td>All Electronics</td>\n",
       "      <td>USB C Docking Station Dual Monitor for MacBook...</td>\n",
       "      <td>3.9</td>\n",
       "      <td>1193</td>\n",
       "      <td>[【18-in-1Docking Station】With USB C Docking St...</td>\n",
       "      <td>[]</td>\n",
       "      <td>NaN</td>\n",
       "      <td>[{'thumb': 'https://m.media-amazon.com/images/...</td>\n",
       "      <td>[]</td>\n",
       "      <td>ZMUIPNG</td>\n",
       "      <td>[Electronics, Computers &amp; Accessories, Laptop ...</td>\n",
       "      <td>{'Product Dimensions': '3.94\"L x 1.18\"W x 3.94...</td>\n",
       "      <td>B09SFN9NRX</td>\n",
       "      <td>NaN</td>\n",
       "      <td>NaN</td>\n",
       "      <td>NaN</td>\n",
       "      <td>USB C Docking Station Dual Monitor for MacBook...</td>\n",
       "    </tr>\n",
       "    <tr>\n",
       "      <th>3</th>\n",
       "      <td>Camera &amp; Photo</td>\n",
       "      <td>[2023 Upgraded] Telescopes for Adults Astronom...</td>\n",
       "      <td>4.1</td>\n",
       "      <td>219</td>\n",
       "      <td>[🎁【2023 All New Experience】The newly upgraded ...</td>\n",
       "      <td>[]</td>\n",
       "      <td>169.99</td>\n",
       "      <td>[{'thumb': 'https://m.media-amazon.com/images/...</td>\n",
       "      <td>[{'title': 'Good picture quality', 'url': 'htt...</td>\n",
       "      <td>HUTACT</td>\n",
       "      <td>[Electronics, Camera &amp; Photo, Binoculars &amp; Sco...</td>\n",
       "      <td>{'Product Dimensions': '32.5\"D x 5.5\"W x 9.7\"H...</td>\n",
       "      <td>B09TP3SZ7C</td>\n",
       "      <td>NaN</td>\n",
       "      <td>NaN</td>\n",
       "      <td>NaN</td>\n",
       "      <td>[2023 Upgraded] Telescopes for Adults Astronom...</td>\n",
       "    </tr>\n",
       "    <tr>\n",
       "      <th>4</th>\n",
       "      <td>AMAZON FASHION</td>\n",
       "      <td>Laptop Bag 15.6 Inch, Laptop Briefcase Messeng...</td>\n",
       "      <td>4.5</td>\n",
       "      <td>222</td>\n",
       "      <td>[Leather,Mesh, Imported, Multi-pockets and Lar...</td>\n",
       "      <td>[]</td>\n",
       "      <td>24.95</td>\n",
       "      <td>[{'thumb': 'https://m.media-amazon.com/images/...</td>\n",
       "      <td>[]</td>\n",
       "      <td>KPIQIU</td>\n",
       "      <td>[Electronics, Computers &amp; Accessories, Laptop ...</td>\n",
       "      <td>{'Product Dimensions': '16 x 2 x 12 inches; 1....</td>\n",
       "      <td>B0B5H7T7XZ</td>\n",
       "      <td>NaN</td>\n",
       "      <td>NaN</td>\n",
       "      <td>NaN</td>\n",
       "      <td>Laptop Bag 15.6 Inch, Laptop Briefcase Messeng...</td>\n",
       "    </tr>\n",
       "  </tbody>\n",
       "</table>\n",
       "</div>"
      ],
      "text/plain": [
       "             main_category                                              title  \\\n",
       "0  Industrial & Scientific  RAVODOI USB C Cable, [2Pack/3.3ft+6.6ft] USB T...   \n",
       "1          All Electronics  SNESH-2 Pack USB-C Female to USB Male Adapter,...   \n",
       "2          All Electronics  USB C Docking Station Dual Monitor for MacBook...   \n",
       "3           Camera & Photo  [2023 Upgraded] Telescopes for Adults Astronom...   \n",
       "4           AMAZON FASHION  Laptop Bag 15.6 Inch, Laptop Briefcase Messeng...   \n",
       "\n",
       "   average_rating  rating_number  \\\n",
       "0             4.4            119   \n",
       "1             4.5            352   \n",
       "2             3.9           1193   \n",
       "3             4.1            219   \n",
       "4             4.5            222   \n",
       "\n",
       "                                            features description   price  \\\n",
       "0  [【Fast Charging Cord】These USB C cables provid...          []     NaN   \n",
       "1  [🔹(Light & compact) Easy to carry and light we...          []    4.99   \n",
       "2  [【18-in-1Docking Station】With USB C Docking St...          []     NaN   \n",
       "3  [🎁【2023 All New Experience】The newly upgraded ...          []  169.99   \n",
       "4  [Leather,Mesh, Imported, Multi-pockets and Lar...          []   24.95   \n",
       "\n",
       "                                              images  \\\n",
       "0  [{'thumb': 'https://m.media-amazon.com/images/...   \n",
       "1  [{'thumb': 'https://m.media-amazon.com/images/...   \n",
       "2  [{'thumb': 'https://m.media-amazon.com/images/...   \n",
       "3  [{'thumb': 'https://m.media-amazon.com/images/...   \n",
       "4  [{'thumb': 'https://m.media-amazon.com/images/...   \n",
       "\n",
       "                                              videos    store  \\\n",
       "0  [{'title': 'Type-C Charger Cable ', 'url': 'ht...  RAVODOI   \n",
       "1  [{'title': 'USB Male & Female Adapter', 'url':...    SNESH   \n",
       "2                                                 []  ZMUIPNG   \n",
       "3  [{'title': 'Good picture quality', 'url': 'htt...   HUTACT   \n",
       "4                                                 []   KPIQIU   \n",
       "\n",
       "                                          categories  \\\n",
       "0  [Electronics, Computers & Accessories, Compute...   \n",
       "1  [Electronics, Computers & Accessories, Compute...   \n",
       "2  [Electronics, Computers & Accessories, Laptop ...   \n",
       "3  [Electronics, Camera & Photo, Binoculars & Sco...   \n",
       "4  [Electronics, Computers & Accessories, Laptop ...   \n",
       "\n",
       "                                             details parent_asin  \\\n",
       "0  {'Brand': 'RAVODOI', 'Connector Type': 'USB Ty...  B09R4Y2HKY   \n",
       "1  {'Package Dimensions': '3.54 x 2.4 x 0.35 inch...  B09JV5FM2S   \n",
       "2  {'Product Dimensions': '3.94\"L x 1.18\"W x 3.94...  B09SFN9NRX   \n",
       "3  {'Product Dimensions': '32.5\"D x 5.5\"W x 9.7\"H...  B09TP3SZ7C   \n",
       "4  {'Product Dimensions': '16 x 2 x 12 inches; 1....  B0B5H7T7XZ   \n",
       "\n",
       "   bought_together  subtitle  author  \\\n",
       "0              NaN       NaN     NaN   \n",
       "1              NaN       NaN     NaN   \n",
       "2              NaN       NaN     NaN   \n",
       "3              NaN       NaN     NaN   \n",
       "4              NaN       NaN     NaN   \n",
       "\n",
       "                                   preprocessed_data  \n",
       "0  RAVODOI USB C Cable, [2Pack/3.3ft+6.6ft] USB T...  \n",
       "1  SNESH-2 Pack USB-C Female to USB Male Adapter,...  \n",
       "2  USB C Docking Station Dual Monitor for MacBook...  \n",
       "3  [2023 Upgraded] Telescopes for Adults Astronom...  \n",
       "4  Laptop Bag 15.6 Inch, Laptop Briefcase Messeng...  "
      ]
     },
     "execution_count": 12,
     "metadata": {},
     "output_type": "execute_result"
    }
   ],
   "source": [
    "df_items.head()"
   ]
  },
  {
   "cell_type": "code",
   "execution_count": 8,
   "metadata": {},
   "outputs": [],
   "source": [
    "# Sample 50 items from the dataset\n",
    "\n",
    "df_sample = df_items.sample(n=50, random_state=42)"
   ]
  },
  {
   "cell_type": "code",
   "execution_count": 9,
   "metadata": {},
   "outputs": [],
   "source": [
    "# Define Embeddings function\n",
    "def get_embedding(text, model=\"text-embedding-3-small\"):\n",
    "    response = openai.embeddings.create(\n",
    "        input=[text],\n",
    "        model=model,\n",
    "    )\n",
    "    return response.data[0].embedding"
   ]
  },
  {
   "cell_type": "code",
   "execution_count": 14,
   "metadata": {},
   "outputs": [],
   "source": [
    "# Embed sample Data\n",
    "data_to_embed = df_sample[\"preprocessed_data\"].tolist()\n",
    "pointstructs = []\n",
    "for i, data in enumerate(data_to_embed):\n",
    "    embedding = get_embedding(data)\n",
    "    pointstructs.append(\n",
    "        PointStruct(\n",
    "            id=i,\n",
    "            vector=embedding,\n",
    "            payload={\"text\": data},\n",
    "        )\n",
    "    )"
   ]
  },
  {
   "cell_type": "code",
   "execution_count": 16,
   "metadata": {},
   "outputs": [
    {
     "data": {
      "text/plain": [
       "50"
      ]
     },
     "execution_count": 16,
     "metadata": {},
     "output_type": "execute_result"
    }
   ],
   "source": [
    "len(pointstructs)"
   ]
  },
  {
   "cell_type": "code",
   "execution_count": 17,
   "metadata": {},
   "outputs": [],
   "source": [
    "# Embed actual Data\n",
    "data_to_embed = df_items[\"preprocessed_data\"].tolist()\n",
    "pointstructs_list = []\n",
    "for i, data in enumerate(data_to_embed):\n",
    "    embedding = get_embedding(data)\n",
    "    pointstructs_list.append(\n",
    "        PointStruct(\n",
    "            id=i,\n",
    "            vector=embedding,\n",
    "            payload={\"text\": data},\n",
    "        )\n",
    "    )"
   ]
  },
  {
   "cell_type": "code",
   "execution_count": 19,
   "metadata": {},
   "outputs": [],
   "source": [
    "def chunked(lst, n):\n",
    "    for i in range(0, len(lst), n):\n",
    "        yield lst[i : i + n]\n",
    "\n",
    "# Write embedded data to Qdrant collection\n",
    "for batch in chunked(pointstructs_list, 50):\n",
    "    qdrant_client.upsert(\n",
    "        collection_name=\"Amazon-items-collection-00\",\n",
    "        wait=True,\n",
    "        points=batch,\n",
    "    )"
   ]
  },
  {
   "cell_type": "code",
   "execution_count": 20,
   "metadata": {},
   "outputs": [],
   "source": [
    "# Define a function for data retrieval\n",
    "def retrieve_data(query):\n",
    "    query_embedding = get_embedding(query)\n",
    "    results = qdrant_client.query_points(\n",
    "        collection_name=\"Amazon-items-collection-00\",\n",
    "        query=query_embedding,\n",
    "        limit=10,\n",
    "    )\n",
    "    return results"
   ]
  },
  {
   "cell_type": "code",
   "execution_count": 22,
   "metadata": {},
   "outputs": [
    {
     "data": {
      "text/plain": [
       "[ScoredPoint(id=662, version=13, score=0.5792889, payload={'text': '2 Pack Earbuds Headphones, Wired Earphones Stereo Noise Reduction Canceling with Microphone and Volume Control '}, vector=None, shard_key=None, order_value=None),\n",
       " ScoredPoint(id=615, version=12, score=0.56868047, payload={'text': 'Wireless Earbud Bluetooth 5.1 Headphones Deep Bass Bluetooth Earbud with 4 Noise Cancelling Mics, 2022 WirelessHeadphones in Ear with IP7 Waterproof, 35Hrs Ear Buds, LED Display Bluetooth 5.3 and Auto Pairing: Adopting advanced Bluetooth 5.3 chip, wireless earbud support HSP HFP A2DP AVRCP, which offer you an unparalleled audio experience with faster transmission speed, stronger connection stability, and longer range of bluetooth. Taken from the charging case, wireless headphones will be paired with each other automatically, and just hit on bluetooth list MD016 earbud on your device to connect, avoiding complex operations. Stereo Deep Bass and HD Calls: These bluetooth headphones with 13mm graphene speakers and triple-layer composite diaphragms provide powerful bass, stunning treble and clear mids. Built in ENC microphone pick up internal sounds and produce anti-noise again to twice cancel the left noise.'}, vector=None, shard_key=None, order_value=None),\n",
       " ScoredPoint(id=159, version=3, score=0.56792027, payload={'text': 'HAOMUK Active Noise Cancelling Headphones, Wireless Bluetooth Headphones Deep Bass Over Ear Headset with Microphone, Fast Charge 45H Playtime ANC Foldable Stereo Sound for Sleeping, TV, Travel, Home REDUCE 92% LOW-FREQUENCY NOISES: Active noise canceling headphones with quick On/Off active noise cancellation (ANC), detect and eliminate a wider range of low and intermediate frequency noise. the wireless headphones give you crisp, powerful sound and quiet that helps you enjoy your music better. ADJUSTABLE HEADBAND WITH BUILT-IN MICROPHONE: Adjustable headband of bluetooth headphones with mic fit for all groups, 20mm memory foam & elongated earcups，more durability and comfort, Skin texture, Lightweight comfortable around-ear fit you can wear all day. Built-in microphone for hands-free calls, Which is convenient for you to free yourself from wires. 30 HOURS PLAYTIME WITH ANC ON: Noise cancelling headphones with 30hrs playtime with ANC on and 45hrs playtime with ANC off on a single charge, the wired mode provides endless enjoyment. And after just a few minutes of charging, enough for you to use the wireless headphones for a few hours. BLUETOOTH 5.0 WITH DEEP BASS: Bluetooth 5.0 means the bluetooth wireless headphones are faster, more stable connection and lower power consumption. 40mm drivers can bring better bass with authentic sounds preserved, realistic performance on your phone, tablet, or laptop. FOLDABLE DESIGN FOR EASY PORTABILITY: The wireless headset comes with foldable and light weight design, the over ear headphones only 8.1 ounces, easy to carry for walking, running, biking, climbing or doing other travel activities. The headset supports two Bluetooth devices at the same time. When watching a movie on a laptop or other device, while you are enjoying music, you will not miss any call.'}, vector=None, shard_key=None, order_value=None),\n",
       " ScoredPoint(id=763, version=15, score=0.5653459, payload={'text': 'Bluetooth 5.0 Headphones Over Ear, Hybrid Active Noise Cancelling Headphones, 40Hrs Playtime Wireless Headphones, CVC 8.0 Noise-Reduction Mic, Deep Bass, Soft Memory Foam Ear Cups, for Travel Airplane 【Active Noise Cancellation】:The wireless headphones feature Active Noise Cancellation, which can effectively reduce noise background noise by 32dB in a noisy cabin, bus, train, metro, etc. Also, Hi-Fi Stereo Deep Bass delivers clear, high-fidelity sound for immersive music. 【Hands-free Clear Call】: CVC 6.0 noise-reduction mic conducts crystal-clear conversations by filtering out circuit noise and microphone echo with no need for reaching your phone. 【Advanced Bluetooth 5.0】: Bluetooth 5.0 ensures the fastest audio transmission in excellent stability, with every sonic nuance completely reproduced. Enjoy dynamic and immersive tunes in a 10m/33ft wireless range without disconnection. 【Prolonged 40H Music Time】: Free to enjoy pleasant music with the longest playtime ever. 850mAh large-capacity battery ensures up to 40H music enjoyment. Or you can use the offered 3.5mm audio cable for endless playtime in wired mode. 【Foldable Design & Super Comfort】: The foldable over-ear headphones can be easily put into a school bag or suitcase, ideal for travel, and business trips. Soft memory foam ear cups with a 90°flexible rotatable design give extra comfort in the perfect seal. The adjustable headband with minimum clamping force offers great wearing malleability that suits most head sizes of various individuals. Ideal for travel, business trips. 【What you will Get】: The package includes 1 × ANC Noise Cancellation Bluetooth headphones, 1 × USB charging cable, 1 × audio cable, 1 × carrying porch, and 1 × user manual. All products from us offer our hassle-free after-sale service including a 24-month warranty.'}, vector=None, shard_key=None, order_value=None),\n",
       " ScoredPoint(id=539, version=10, score=0.5601685, payload={'text': 'Ankbit E500Pro Hybrid Active Noise Cancelling Headphones, 90H Playtime Wireless Over-Ear Bluetooth Headphones with Mic, Hi-Fi Sound, Deep Bass, Multi-Connection, Comfort Earpad for Travel/Work(Black) Powerful Noise Cancellation: With 4 built-in ANC microphones and hybrid active noise cancellation technology, E500Pro Bluetooth headphones will reduce ambient noise by up to 95%. Whether in the office, outdoors or transport, you can enjoy true concentration in your own private space. High Fidelity Stereo Audio: Hear every note of your music with Custom oversized 40 mm dynamic drivers, along with high-response diaphragm, and lightweight voice coil, achieve crystal clarity and balanced deep bass. Crystal Clear Calls: E500Pro adopts advanced ENC and Sound+ call noise reduction technology, provide crystal clear hands free phone calls, avoid the interference of the surrounding environment. NOTE: has one-button mute. 90+ Hours Playtime: Enjoy 90 hours of playtime in standard mode, 60 hours’ wireless ANC mode.. fully charged in only 1.5~2 hours. while a short 5-minute charge gives you 5 hours of listening. Pressure-Free Comfort: E500Pro active noise cancelling headphones have ultra-soft protein leather earcups with memory foam padding to fit snugly over your ears, you will be able to experience marshmallow like softness texture. Wear it all day without discomfort.'}, vector=None, shard_key=None, order_value=None),\n",
       " ScoredPoint(id=288, version=5, score=0.5577583, payload={'text': 'Active Noise Cancelling Wireless Earbuds, Bluetooth in-Ear Headphones Built-in 4 Mic ENC Call, Deep Bass Ear Buds,IPX6 Waterproof Stereo Earphones for iPhone,Samsung,Laptop (Blue) ♪【ANC Noise Cancelling&Game Mode】: These premium noise-canceling earbuds adopts professional audio active noise canceling technology, and the binaural microphone blocks environmental noise and enhances the voice experience. M48 wireless earbuds are built to provide the exceptional mobile gaming audio experience with an ultra-low 45ms latency.Taps 5 times to enter game mode,through quick sound effect and ideal gaming audio you never miss any game sound effects. ♪【HiFi Stereo Sound & Superior Clear Call 】: Heaphones equipped with a high-sensitivity diaphragm and dual 13mm drivers to restore audio authenticity and voice dynamics, crystal clarity and deep resonance bass characteristics enable you to enjoy immersive sound quality. Call noise canceling brings you crystal clear calls, even in a noisy environment,true wireless in-ear earbuds can achieve a perfect call experience and stereo sound. ♪【LED Light Display & USB-C Fast Charging】: Dual digital LED power display outside of the case is to show the power level for the charging case and to remind you to charge in time by USB-C charge quickly. Put wireless earphones back in the charging case, and the display will flash that meaning earbuds are being charged. 350mAH battery capacity charging case can provide 4 times full charging for two ear buds, each earphone can last for 4H, you can use it for a day without worry. ♪【Upgrade Bluetooth 5.3 & Auto Pairing & Reminder】: Adopting the latest Bluetooth technology 5.3, True wireless earbuds Bluetooth 5.3 have a faster transmission rate, lower latency, providing a fast and stable connection and signal transmission (10 meters barrier-free). Due to the replacement of old and new packaging, you may receive the package of Bluetooth 5.1, but the product is the latest version of Bluetooth 5.3, thanks for your understand. ♪【Touch Control & Transparent Mode】: Easy touch control brings you a convenient operation experience when answering calls, skipping songs, and selecting different listening modes by wireless earbuds bluetooth. With the Transprency mode, you can hear what you want to hear, so you can listen and interact with the world around you. You can clearly hear an announcement of the airline or subway, as well as the sound around you, without taking off the headphones.'}, vector=None, shard_key=None, order_value=None),\n",
       " ScoredPoint(id=327, version=6, score=0.5574981, payload={'text': \"Wireless Earbud, Bluetooth 5.3 Headphones 2022 Bluetooth Earbud with Mic, Wireless Earphones in Ear 35H Deep Bass Noise Cancelling Wireless Headphones IP7 Waterproof Ear Buds for Sport USB-C [Bluetooth 5.3 & One-Step Pairing] The true wireless earbuds have the feature of Bluetooth 5.3 technology which offers stable connection and enough 30ft distance for you. Once you open the charging case and select the name from the list, it will pair with your device. True wireless earphones will automatically connect with the latest device after first use IPX7 Waterproof & Comfortable to Wear: With half-in-ear ergonomic design, the Bluetooth headset is stable and lightweight (only 4g). The sealed shell and nano coating can isolate sweat and rain, making the earphones an ideal choice for outdoor sports or gym use. HiFi Sound Quality, Intelligent Noise Reduction: With 13mm large speaker unit, using polymer composite diaphragm, full three-dimensional sense of proximity, and has stable performance, long distance, low power consumption, etc. Built-in pointing microphone, automatically weaken ambient sound, to achieve HD binaural calls. Wide Compatibility: The earphones' sleek glossy material and semi-in-ear ergonomic styling provide a better fit to the ear, resulting in a comfortable and solid experience. Compatible with iOS, Android, Windows and all kinds of Bluetooth-enabled smart devices and systems. Long Battery Life: The mini portable charging case can fully recharge the extra bluetooth earbuds 4-5 times. Total playback time up to 35 hours. It comes with a USB cable for faster charging speed. We offer 30-day full refund and 1-year warranty. If you have any questions when using the wireless headphones, please feel free to contact us. We are committed to providing 100% satisfied customer service.\"}, vector=None, shard_key=None, order_value=None),\n",
       " ScoredPoint(id=503, version=10, score=0.55597377, payload={'text': 'Wireless Earbuds, Bluetooth Headphones 5.3 with 4-Mics Clear Call and ENC Noise Cancelling, True Wireless Earbuds Touch Control Stereo Sound with LED Display, Waterproof Bluetooth Earbuds for Workout Enjoy Bluetooth 5.3: Latest Bluetooth 5.3 technology achieves lower latency and stronger anti-interference. MD058A true wireless headphone offer audio delays much lower than 65ms. Feature reduces the number of disconnections of the ear buds in complex environments(places with many people, such as subways and buses). Hi-Fi Stereo Sound and Crystal Clear Call: Bluetooth earbuds with 13mm vibrating diaphragm and AAC/SBC audio coding technology, resulting in sufficiently strong bass and naturally connects to the mid and high frequencies. True wireless earbuds adopts 4 mic design and ENC noise cancelling technology, can suppress 90% of the interfering background noise in the calling environment, allowing the other side to hear you more clearly. One-Step Pairing and 25H Playtime: Wireless earbuds bluetooth adopts hall switch. After the first connection, these bluetooth earphones will automatically connect to your device as soon as you open the charging case. Earphones wireless with LED display provide up to 5 hours of high quality sound output on a single charge and the included charging case provides an additional 4 charges, giving 25 hours of a total playtime. Touch Control Switch Easily between Single and Double Mode: MD058A bluetooth earphones can be used as a Single Ear Mode and easily switch between Single Ear Mode and Double Mode during operation. You can touch any either of the two wireless bluetooth earbuds to control the device, such as music switch, volume adjustment, phone calls, voice assistant, etc. No need to adjust through your mobile phone. Touch Control Switch Easily between Single and Double Mode: MD058A bluetooth earphones can be used as a Single Ear Mode and easily switch between Single Ear Mode and Double Mode during operation. You can touch any either of the two wireless bluetooth earbuds to control the device, such as music switch, volume adjustment, phone calls, voice assistant, etc. No need to adjust through your mobile phone.'}, vector=None, shard_key=None, order_value=None),\n",
       " ScoredPoint(id=809, version=16, score=0.5473683, payload={'text': \"Edifier TWS1 Pro 2 Active Noise Cancellation Earbuds, 42dB Depth ANC, AI-Enhanced Calls with 4 Mics, in-Ear Detection, Fast Charging, Game Mode, Custom EQ, True Wireless Bluetooth 5.3 Earbuds - Black [Up To 42dB Active Noise Cancellation] Experience up to 42dB of noise reduction with these earbuds, creating an exclusive, quiet space. Customize noise reduction levels in the app with 2 ANC selection levels and multiple modes based on your environment. [CD-Level Sound Details] With titanized composite diaphragm, these earbuds produce richer and more delicate sounds. Experience surging bass, crystal-clear mid-range, and treble, delivering CD-level original sounds for a perfect music experience. [Clear Voice Call with AI Technology] Enhance your call experience with intelligent Al call noise cancellation technology, which identifies and eliminates environmental noise. Enjoy perfect clarity whenever you're on a call. [Intelligent In Ear Detection] Never miss a beautiful melody with the earbuds' intelligent ear detection, automatically pausing or playing music when you take them off or put them on. [Easy Touch Control and Comfortable Fit] The TWS1 Pro 2 offers intuitive touch controls for easy operation. Its lightweight design, IP54 rating, and 4 different sized ear cups (S/M/L/XL) ensure a comfortable fit for any ear and no worries of sweat while working out.\"}, vector=None, shard_key=None, order_value=None),\n",
       " ScoredPoint(id=242, version=4, score=0.54708785, payload={'text': 'Beats Fit Pro True Wireless Bluetooth Noise Cancelling in-Ear Headphones - Black (Renewed) Flexible, secure-fit wingtips for all-day comfort and stability Custom acoustic platform delivers powerful, balanced sound Spatial Audio with dynamic head tracking for immersive music, movies, and games Two distinct listening modes: Active Noise Cancelling and Transparency Mode Enhanced by the Apple H1 chip for Automatic Switching, Audio Sharing (with another pair of Beats headphones or Apple AirPods), and ?Hey Siri?'}, vector=None, shard_key=None, order_value=None)]"
      ]
     },
     "execution_count": 22,
     "metadata": {},
     "output_type": "execute_result"
    }
   ],
   "source": [
    "# Test the retrieval function\n",
    "retrieve_data(\"wireless headphones with noise cancellation\").points"
   ]
  },
  {
   "cell_type": "code",
   "execution_count": null,
   "metadata": {},
   "outputs": [],
   "source": []
  }
 ],
 "metadata": {
  "kernelspec": {
   "display_name": ".venv",
   "language": "python",
   "name": "python3"
  },
  "language_info": {
   "codemirror_mode": {
    "name": "ipython",
    "version": 3
   },
   "file_extension": ".py",
   "mimetype": "text/x-python",
   "name": "python",
   "nbconvert_exporter": "python",
   "pygments_lexer": "ipython3",
   "version": "3.12.11"
  }
 },
 "nbformat": 4,
 "nbformat_minor": 2
}
